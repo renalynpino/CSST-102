{
  "nbformat": 4,
  "nbformat_minor": 0,
  "metadata": {
    "colab": {
      "provenance": []
    },
    "kernelspec": {
      "name": "python3",
      "display_name": "Python 3"
    },
    "language_info": {
      "name": "python"
    }
  },
  "cells": [
    {
      "cell_type": "markdown",
      "source": [
        "#1. Data Preprocessing\n",
        "\n",
        "\n",
        "\n",
        "\n",
        "\n",
        "*  **Load the dataset**\n",
        "\n"
      ],
      "metadata": {
        "id": "hiSQsUjrzKZ3"
      }
    },
    {
      "cell_type": "code",
      "source": [
        "import pandas as pd\n",
        "import numpy as np\n",
        "import matplotlib.pyplot as plt\n",
        "from sklearn.preprocessing import StandardScaler\n",
        "from sklearn.model_selection import train_test_split\n",
        "\n",
        "\n",
        "data = pd.read_csv('/content/datasets_house_prices.csv')"
      ],
      "metadata": {
        "id": "DVLZ_QXxzNeu"
      },
      "execution_count": 23,
      "outputs": []
    },
    {
      "cell_type": "markdown",
      "source": [
        "\n",
        "\n",
        "*   **Missing values**\n",
        "\n"
      ],
      "metadata": {
        "id": "o4xNtblNz8mu"
      }
    },
    {
      "cell_type": "code",
      "source": [
        "print(data.isnull().sum())"
      ],
      "metadata": {
        "colab": {
          "base_uri": "https://localhost:8080/"
        },
        "id": "EXrJuXkt1BG1",
        "outputId": "c5f6cb32-847c-4b6c-fe47-6331b306d6cf"
      },
      "execution_count": 24,
      "outputs": [
        {
          "output_type": "stream",
          "name": "stdout",
          "text": [
            "Size (sqft)                      0\n",
            "Bedrooms                         0\n",
            "Age                              0\n",
            "Proximity to Downtown (miles)    0\n",
            "Price                            0\n",
            "dtype: int64\n"
          ]
        }
      ]
    },
    {
      "cell_type": "markdown",
      "source": [
        "\n",
        "\n",
        "*  **Normalizing the features**\n",
        "\n"
      ],
      "metadata": {
        "id": "m4uUejDI1KDd"
      }
    },
    {
      "cell_type": "code",
      "source": [
        "scaler = StandardScaler()\n",
        "X = scaler.fit_transform(data[['Size (sqft)', 'Bedrooms', 'Age']])\n",
        "y = data['Price']"
      ],
      "metadata": {
        "id": "n5OJiTle1XBF"
      },
      "execution_count": 25,
      "outputs": []
    },
    {
      "cell_type": "markdown",
      "source": [
        "#2. Model Implementation\n",
        "\n",
        "\n"
      ],
      "metadata": {
        "id": "YagFBC301gIK"
      }
    },
    {
      "cell_type": "code",
      "source": [
        "def linear_regression(X, y):\n",
        "    X = np.c_[np.ones(len(X)), X]  # Add bias term\n",
        "    theta = np.linalg.pinv(X.T @ X) @ X.T @ y  # Calculate model parameters\n",
        "    return theta[0], theta[1:]\n",
        "\n",
        "def predict(X, theta0, theta):\n",
        "    return theta0 + X @ theta  # Predict house prices"
      ],
      "metadata": {
        "id": "Fhk3H-7v1u4R"
      },
      "execution_count": 26,
      "outputs": []
    },
    {
      "cell_type": "markdown",
      "source": [
        "#3. Model Training\n",
        "\n",
        "\n",
        "\n",
        "*   **Splitting the Dataset**"
      ],
      "metadata": {
        "id": "I964bg5e2QMm"
      }
    },
    {
      "cell_type": "code",
      "source": [
        "X_train, X_test, y_train, y_test = train_test_split(X, y, test_size=0.2, random_state=42)"
      ],
      "metadata": {
        "id": "h0Ut8Hc22XMi"
      },
      "execution_count": 27,
      "outputs": []
    },
    {
      "cell_type": "markdown",
      "source": [
        "\n",
        "\n",
        "*   **Training linear regression model**\n"
      ],
      "metadata": {
        "id": "Q5SX8RJF4P1K"
      }
    },
    {
      "cell_type": "code",
      "source": [
        "theta0, theta = linear_regression(X_train, y_train)"
      ],
      "metadata": {
        "id": "ewCES-jg4eXw"
      },
      "execution_count": 28,
      "outputs": []
    },
    {
      "cell_type": "markdown",
      "source": [
        "*  **Calculating the Mean Squared Error (MSE)**"
      ],
      "metadata": {
        "id": "eA8zDr5-4iVk"
      }
    },
    {
      "cell_type": "code",
      "source": [
        "y_train_pred = predict(X_train, theta0, theta)\n",
        "mse_train = np.mean((y_train - y_train_pred) ** 2)\n",
        "print(f'Training MSE: {mse_train:.2f}')"
      ],
      "metadata": {
        "colab": {
          "base_uri": "https://localhost:8080/"
        },
        "id": "zjGoJQLD45U-",
        "outputId": "46c37ca1-efde-48be-d80a-72b02e725d21"
      },
      "execution_count": 29,
      "outputs": [
        {
          "output_type": "stream",
          "name": "stdout",
          "text": [
            "Training MSE: 170277648.52\n"
          ]
        }
      ]
    },
    {
      "cell_type": "markdown",
      "source": [
        "#4. Model Evaluation\n",
        "\n",
        "\n",
        "\n",
        "*   **Testing the Model**\n",
        "\n"
      ],
      "metadata": {
        "id": "B2lTy9U249n5"
      }
    },
    {
      "cell_type": "code",
      "source": [
        "y_test_pred = predict(X_test, theta0, theta)\n",
        "mse_test = np.mean((y_test - y_test_pred) ** 2)\n",
        "print(f'Testing MSE: {mse_test:.2f}')"
      ],
      "metadata": {
        "colab": {
          "base_uri": "https://localhost:8080/"
        },
        "id": "Nq63rqNY5XIs",
        "outputId": "121f6bb5-a53f-4519-a85a-0a5adca1f15d"
      },
      "execution_count": 30,
      "outputs": [
        {
          "output_type": "stream",
          "name": "stdout",
          "text": [
            "Testing MSE: 167882080.37\n"
          ]
        }
      ]
    },
    {
      "cell_type": "markdown",
      "source": [
        "*   **Visualizing the Result**\n",
        "\n"
      ],
      "metadata": {
        "id": "FCCclEBy5bJG"
      }
    },
    {
      "cell_type": "code",
      "source": [
        "plt.figure(figsize=(8, 6))\n",
        "plt.hist([y_test, y_test_pred], bins=20, color=['pink', 'purple'], label=['Actual', 'Predicted'])\n",
        "plt.xlabel('Price')\n",
        "plt.ylabel('Count')\n",
        "plt.title('Linear Regression')\n",
        "plt.legend()\n",
        "plt.show()"
      ],
      "metadata": {
        "colab": {
          "base_uri": "https://localhost:8080/",
          "height": 564
        },
        "id": "fOUZ-jTg5kwx",
        "outputId": "eff52b2f-4354-46c3-d1a3-e97fcd2da9cd"
      },
      "execution_count": 31,
      "outputs": [
        {
          "output_type": "display_data",
          "data": {
            "text/plain": [
              "<Figure size 800x600 with 1 Axes>"
            ],
            "image/png": "[encoded data removed]"
          },
          "metadata": {}
        }
      ]
    },
    {
      "cell_type": "markdown",
      "source": [
        "#5. Report\n",
        "\n",
        "\n",
        "In this project, we used linear regression to predict house prices based on features like size, number of bedrooms, and age.\n",
        "\n",
        "- During **data preprocessing**, I checked for missing values, but none were found. Then, I normalized the features using a standard scaler to ensure all inputs were on the same scale, which is important for improving the model's performance.\n",
        "\n",
        "- For **model implementation**, I wrote a custom linear regression function that added a bias term and used matrix operations to find the model parameters (theta values).\n",
        "\n",
        "- During **training**, I split the dataset into training and testing sets. I trained the model using the training set and calculated the mean squared error (MSE) to measure how well the model fit the data. The training MSE was 170,277,648.52.\n",
        "\n",
        "- In **evaluation**, I tested the model on the unseen test data, where the testing MSE was slightly lower at 167,882,080.37, indicating a fairly consistent performance between training and testing.\n",
        "\n",
        "- Finally, the **conclusion** is that the model performed reasonably well, though the high MSE suggests that it could be improved, perhaps by including more features or using more advanced algorithms.\n",
        "\n",
        "The **challenge** I encountered was ensuring proper scaling of features, which I addressed by using standardization. Visualization of the results further helped compare actual and predicted values, showing that the predictions followed the general trend but had some variation."
      ],
      "metadata": {
        "id": "j6uehKVc5yLn"
      }
    }
  ]
}